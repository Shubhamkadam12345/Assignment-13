{
 "cells": [
  {
   "cell_type": "code",
   "execution_count": null,
   "id": "ec0382c2-c1a3-4797-9500-76181722a8cf",
   "metadata": {},
   "outputs": [],
   "source": [
    "Q.1"
   ]
  },
  {
   "cell_type": "code",
   "execution_count": null,
   "id": "5f4dd081-8004-48d7-8125-55f97fe65b22",
   "metadata": {},
   "outputs": [],
   "source": [
    "MongoDB is a document database with the scability and flexibility that you \n",
    "want with the querying and indexing that you need."
   ]
  },
  {
   "cell_type": "code",
   "execution_count": null,
   "id": "701e7348-e5bf-42e1-b769-f9fbe3ceb034",
   "metadata": {},
   "outputs": [],
   "source": [
    "A non- relation database is a database that does not use the tabular schema of rows\n",
    "and columns found in most traditional database system."
   ]
  },
  {
   "cell_type": "code",
   "execution_count": null,
   "id": "7385c934-f398-4845-9b10-1927f433c999",
   "metadata": {},
   "outputs": [],
   "source": [
    "\" customer ID \": 99\n",
    "order item \": [\n",
    "{ \" product ID \": 2010,\n",
    " \"Quantity \": 2\n",
    " \" Cost \": 520"
   ]
  },
  {
   "cell_type": "code",
   "execution_count": null,
   "id": "8d8c502f-53e5-4079-b5a6-592c1702392b",
   "metadata": {},
   "outputs": [],
   "source": [
    "{ \" product ID \": 4365\n",
    " \" Quantity\": 1,\n",
    " \" Cost \":18"
   ]
  },
  {
   "cell_type": "code",
   "execution_count": null,
   "id": "3f0dae69-f47c-438b-8262-1d9d6edf98a1",
   "metadata": {},
   "outputs": [],
   "source": [
    "SQL Database are used to store structed data while NoSQL database like MongoDB\n",
    "are used to save unstructured data."
   ]
  },
  {
   "cell_type": "code",
   "execution_count": null,
   "id": "fb30473e-8503-4316-80e0-f17da6a946dd",
   "metadata": {},
   "outputs": [],
   "source": [
    "Q.2"
   ]
  },
  {
   "cell_type": "code",
   "execution_count": null,
   "id": "23c62c19-ac31-4cf7-bc69-37508cdb7368",
   "metadata": {},
   "outputs": [],
   "source": [
    "MongoDB support field queries, range queries, and Regular expression serches."
   ]
  },
  {
   "cell_type": "code",
   "execution_count": null,
   "id": "5d40fab1-05f7-49e1-8014-df79894da40c",
   "metadata": {},
   "outputs": [],
   "source": [
    "1)  Ad-hoc queries for optimized, real- time analayis:-"
   ]
  },
  {
   "cell_type": "code",
   "execution_count": null,
   "id": "933343d4-ad9b-42a2-bd06-e38d45686bee",
   "metadata": {},
   "outputs": [],
   "source": [
    "When desigining the schema of a database, it is impossible to know in advance all the\n",
    "queries that will be performed by end users. An ad-hoc query is a short- lived command \n",
    "whose value depends on a variable.\n"
   ]
  },
  {
   "cell_type": "code",
   "execution_count": null,
   "id": "efe78ef2-3ef8-44b4-98cf-53d3f5f812c9",
   "metadata": {},
   "outputs": [],
   "source": [
    "2) Indexing appropriately for bettery query execution:-"
   ]
  },
  {
   "cell_type": "code",
   "execution_count": null,
   "id": "19109e4c-5e24-4774-ba5e-49de83fd7487",
   "metadata": {},
   "outputs": [],
   "source": [
    "In our experiences the number one issue that many technical support team fail \n",
    "to address with their users is indexing."
   ]
  },
  {
   "cell_type": "code",
   "execution_count": null,
   "id": "f9b5ff5b-576b-4aa6-b046-929bc99766b3",
   "metadata": {},
   "outputs": [],
   "source": [
    "3)Replication for better data avalibility and stability:-"
   ]
  },
  {
   "cell_type": "code",
   "execution_count": null,
   "id": "68e76900-cd75-4d76-9c75-a8d23a8a0976",
   "metadata": {},
   "outputs": [],
   "source": [
    "When your data only resides in a single database, it is exposed to multiple\n",
    "potential points of failure, such as a server interruption, or even good \n",
    "old hardware failure."
   ]
  },
  {
   "cell_type": "code",
   "execution_count": null,
   "id": "ec724883-e2d3-4183-89f6-fad671bd02f2",
   "metadata": {},
   "outputs": [],
   "source": [
    "Q.3"
   ]
  },
  {
   "cell_type": "code",
   "execution_count": null,
   "id": "8e3ce231-1a86-4e75-b31d-432434b4019a",
   "metadata": {},
   "outputs": [],
   "source": [
    " import pyodbc\n",
    "cnxn= pyodbc. connect"
   ]
  },
  {
   "cell_type": "code",
   "execution_count": null,
   "id": "ec678e3f-41f3-43d1-8e7a-69539b31b794",
   "metadata": {},
   "outputs": [],
   "source": [
    "(DRIVER={ Devart ODBC Driver for MongoDB) \n",
    "         Server= myserver; Port= my port;\n",
    "Database= my database; Users ID= my userid \n",
    "id; password= myusers password;) "
   ]
  },
  {
   "cell_type": "code",
   "execution_count": null,
   "id": "6f90d017-f1a9-4c8d-9468-669dc2682e20",
   "metadata": {},
   "outputs": [],
   "source": [
    "C:\\ window \\ system 32> mongod.....Verious\n",
    "db verious v 4.41\n",
    "Build info : {\n",
    "\" Verson \": \"4.4.1\"\n",
    "( \" git verson: ad91a93a5a31e1755cbF8c6956K788bbc55cel\"' ) \n",
    "\" Modules\": tcmdloc\"'\n",
    "\" environment\" :{\n",
    "\" distmod\" \" Windows\n",
    "\" distrach\"; X86-64\"\n",
    "\" target__ arch \" \" X86-64,"
   ]
  },
  {
   "cell_type": "code",
   "execution_count": null,
   "id": "2308c0e2-cfe8-4100-8bd1-e7ff99a22e3d",
   "metadata": {},
   "outputs": [],
   "source": [
    "Q.4"
   ]
  },
  {
   "cell_type": "code",
   "execution_count": null,
   "id": "4f798782-79fc-4d00-ad8a-ae88ea8d7ee3",
   "metadata": {},
   "outputs": [],
   "source": [
    "> Use gfg\n",
    "switched to db gfg\n",
    "> db student insertmany ([{ Name : Akshay\" age: 18 }])                           "
   ]
  },
  {
   "cell_type": "code",
   "execution_count": null,
   "id": "70d4cff3-217e-4901-b2b4-d1fa8b8d0403",
   "metadata": {},
   "outputs": [],
   "source": [
    "\" acknowledgement\": true\n",
    "\" inserted ID \" [\n",
    "object ID ( 60096944d94052ca2177af16\") "
   ]
  },
  {
   "cell_type": "code",
   "execution_count": null,
   "id": "2dd675d2-3507-4582-b2f5-8e20ee4a4506",
   "metadata": {},
   "outputs": [],
   "source": [
    "> ab student find () prerty()\n",
    "{\"__id\" object Id (\" 600083bf8b7388ed4d54157 cg\") \" Akshay 500}"
   ]
  },
  {
   "cell_type": "code",
   "execution_count": null,
   "id": "5a86b1ec-f438-422c-a7e0-3ab182349cc4",
   "metadata": {},
   "outputs": [],
   "source": [
    "\" id \" object Id ( \" 60096944d94052ca2177af16\")\n",
    "\" name \" Akshay \n",
    "\" age 18 \""
   ]
  },
  {
   "cell_type": "code",
   "execution_count": null,
   "id": "8476c01d-f48c-4ffc-96ef-6b086febb1b6",
   "metadata": {},
   "outputs": [],
   "source": [
    "Q.5"
   ]
  },
  {
   "cell_type": "code",
   "execution_count": null,
   "id": "27b8792d-09e5-4f6b-8efb-058582aba346",
   "metadata": {},
   "outputs": [],
   "source": [
    "\" id\" Object Id ( \" 59bcecc7668dcce02aaa6fed\")\n",
    "\" student Id\" 1001,\n",
    "\" student name\"' \" Steve\"\n",
    "\"Age \" 30"
   ]
  },
  {
   "cell_type": "code",
   "execution_count": null,
   "id": "e5ee21da-07d8-4db2-bf7a-60b4622162cb",
   "metadata": {},
   "outputs": [],
   "source": [
    "\" id \" object, Id ( \" 59 bcecc7668dcce02aaa6fee\")\n",
    "\" student Id 1002,\n",
    "\" student Name \" Negan,\n",
    "\" Age 42"
   ]
  },
  {
   "cell_type": "code",
   "execution_count": null,
   "id": "3d2129d6-6ed1-436d-8d05-b25b958d45b4",
   "metadata": {},
   "outputs": [],
   "source": [
    "\" id \": Object Id ( \" 59bcecc7668dcce02aaa6fef\")\n",
    "\" Student Id \" 3333\n",
    "\" student Name \"\"\" Rick;\n",
    "\" age\"; 35"
   ]
  },
  {
   "cell_type": "code",
   "execution_count": null,
   "id": "b2b91ceb-9e14-421c-bb31-857b4a372517",
   "metadata": {},
   "outputs": [],
   "source": [
    "Q.6"
   ]
  },
  {
   "cell_type": "code",
   "execution_count": null,
   "id": "e053b1e4-37e2-4d17-9721-948f14090f9c",
   "metadata": {},
   "outputs": [],
   "source": [
    "{ _id: 1, item:{ cattegory:\" cak\", type:\" chiffon } amount: 10}\n",
    "{ _id: 2,item:{ cattegory:\" Cookies\" types\" \" chocolate chip\" } amount: 50}\n",
    "{_ id: 3, item: { cattegory:\" Cookies \" types\" chocolate chip} \n",
    "{_ id: 4, item:{ cattegory\" cake \"\" type : lemon \" } \" amount\" 30}"
   ]
  },
  {
   "cell_type": "code",
   "execution_count": null,
   "id": "dd9383e8-ae00-41cf-aa5a-b951cfadde58",
   "metadata": {},
   "outputs": [],
   "source": [
    "Q.7"
   ]
  },
  {
   "cell_type": "code",
   "execution_count": null,
   "id": "c95b91ba-6581-4581-b3bd-5fdc61ea66bc",
   "metadata": {},
   "outputs": [],
   "source": [
    "Delete many () can delete multiple document while remove () deletes only\n",
    "one document that meets the conditions."
   ]
  }
 ],
 "metadata": {
  "kernelspec": {
   "display_name": "Python 3 (ipykernel)",
   "language": "python",
   "name": "python3"
  },
  "language_info": {
   "codemirror_mode": {
    "name": "ipython",
    "version": 3
   },
   "file_extension": ".py",
   "mimetype": "text/x-python",
   "name": "python",
   "nbconvert_exporter": "python",
   "pygments_lexer": "ipython3",
   "version": "3.10.8"
  }
 },
 "nbformat": 4,
 "nbformat_minor": 5
}
